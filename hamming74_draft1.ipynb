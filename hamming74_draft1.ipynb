{
  "nbformat": 4,
  "nbformat_minor": 0,
  "metadata": {
    "colab": {
      "name": "Inf Th A6.ipynb",
      "provenance": [],
      "collapsed_sections": [],
      "toc_visible": true
    },
    "kernelspec": {
      "name": "python3",
      "display_name": "Python 3"
    },
    "language_info": {
      "name": "python"
    }
  },
  "cells": [
    {
      "cell_type": "markdown",
      "metadata": {
        "id": "fbocqcv1feil"
      },
      "source": [
        "## Assignment 6: Hamming Code\n",
        "### Members: Akbota Yelemessova & Akniyet Maratova \n",
        "### Group: BDA-1904"
      ]
    },
    {
      "cell_type": "code",
      "metadata": {
        "colab": {
          "base_uri": "https://localhost:8080/"
        },
        "id": "mH9S3yg1fsiG",
        "outputId": "8f2d7349-5382-462c-c690-83f7ef61d9af"
      },
      "source": [
        "# Step 1\n",
        "# open and read txt file\n",
        "with open('compressed.txt', encoding=\"utf8\") as file:\n",
        "    compr = file.read()\n",
        "print(compr)"
      ],
      "execution_count": 1,
      "outputs": [
        {
          "output_type": "stream",
          "text": [
            "001110111011101100101110100000101110101100011101\n"
          ],
          "name": "stdout"
        }
      ]
    },
    {
      "cell_type": "markdown",
      "metadata": {
        "id": "_KlLJdY6qmmL"
      },
      "source": [
        "### (7,4) Extended Hamming code"
      ]
    },
    {
      "cell_type": "code",
      "metadata": {
        "colab": {
          "base_uri": "https://localhost:8080/"
        },
        "id": "MCOqmJABqsy_",
        "outputId": "2dc235a7-7b34-4ee0-f7e7-c761280b6800"
      },
      "source": [
        "#Step 2\n",
        "# dividing into data blocks 4 bits each\n",
        "n = 4\n",
        "blocks = [compr[i:i+n] for i in range(0, len(compr), n)]\n",
        "# output each data block \n",
        "print('Data blocks:' )\n",
        "i=1\n",
        "for data in blocks:\n",
        "  print(f'b{i}: {data}')\n",
        "  i+=1"
      ],
      "execution_count": 15,
      "outputs": [
        {
          "output_type": "stream",
          "text": [
            "Data blocks:\n",
            "b1: 0011\n",
            "b2: 1011\n",
            "b3: 1011\n",
            "b4: 1011\n",
            "b5: 0010\n",
            "b6: 1110\n",
            "b7: 1000\n",
            "b8: 0010\n",
            "b9: 1110\n",
            "b10: 1011\n",
            "b11: 0001\n",
            "b12: 1101\n"
          ],
          "name": "stdout"
        }
      ]
    },
    {
      "cell_type": "code",
      "metadata": {
        "id": "R12D8-pY1Dt8"
      },
      "source": [
        "# Step 3\n",
        "# (7,4) Hamming approach 1\n",
        "def HammingEncode2(bitstring):\n",
        "   # Get data bits\n",
        "    n = 1\n",
        "    bits = [bitstring[i:i+n] for i in range(0, len(bitstring), n)]\n",
        "    # Converting bits to integer\n",
        "    for i in range(0, len(bits)):\n",
        "      bits[i] = int(bits[i])\n",
        "    #output\n",
        "    print(f'{bitstring}:')\n",
        "    print(f'Expand the block to 8 bits: _ _ _ {bits[0]} _ {bits[1]} {bits[2]} {bits[3]}.')\n",
        "    p1 = bits[0]^bits[1]^bits[3]\n",
        "    print(f'p1: b3+b5+b7 = {bits[0]}+{bits[1]}+{bits[3]} = {p1}.')\n",
        "    p2 = bits[0]^bits[2]^bits[3]\n",
        "    print(f'p2: b3+b6+b7 = {bits[0]}+{bits[2]}+{bits[3]} = {p2}.')\n",
        "    p3 = bits[1]^bits[2]^bits[3]\n",
        "    print(f'p3: b5+b6+b7 = {bits[1]}+{bits[2]}+{bits[3]} = {p3}.')\n",
        "    p0 = p1^p2^bits[0]^p3^bits[1]^bits[2]^bits[3]\n",
        "    print(f'p0: b1+b2+b3+b4+b5+b6+b7 = {p1}+{p2}+{bits[0]}+{p3}+{bits[1]}+{bits[2]}+{bits[3]} = {p0}.')\n",
        "    eb = \"%d%d%d%d%d%d%d%d\" % (p0,p1,p2,bits[0],p3,bits[1],bits[2],bits[3])\n",
        "    print(f'Encoded bitstring: {eb}')\n",
        "    return eb"
      ],
      "execution_count": 62,
      "outputs": []
    },
    {
      "cell_type": "code",
      "metadata": {
        "colab": {
          "base_uri": "https://localhost:8080/"
        },
        "id": "lUnUmI6pxz4v",
        "outputId": "9f74d6a9-c469-487f-f2b8-5a476bf36b95"
      },
      "source": [
        "# Step 4\n",
        "encoded_sequence = ''\n",
        "for i in range(0, len(blocks)):\n",
        "  enc = HammingEncode2(blocks[i])\n",
        "  encoded_sequence = encoded_sequence + enc\n",
        "  print('----------')\n"
      ],
      "execution_count": 64,
      "outputs": [
        {
          "output_type": "stream",
          "text": [
            "0011:\n",
            "Expand the block to 8 bits: _ _ _ 0 _ 0 1 1.\n",
            "p1: b3+b5+b7 = 0+0+1 = 1.\n",
            "p2: b3+b6+b7 = 0+1+1 = 0.\n",
            "p3: b5+b6+b7 = 0+1+1 = 0.\n",
            "p0: b1+b2+b3+b4+b5+b6+b7 = 1+0+0+0+0+1+1 = 1.\n",
            "Encoded bitstring: 11000011\n",
            "----------\n",
            "1011:\n",
            "Expand the block to 8 bits: _ _ _ 1 _ 0 1 1.\n",
            "p1: b3+b5+b7 = 1+0+1 = 0.\n",
            "p2: b3+b6+b7 = 1+1+1 = 1.\n",
            "p3: b5+b6+b7 = 0+1+1 = 0.\n",
            "p0: b1+b2+b3+b4+b5+b6+b7 = 0+1+1+0+0+1+1 = 0.\n",
            "Encoded bitstring: 00110011\n",
            "----------\n",
            "1011:\n",
            "Expand the block to 8 bits: _ _ _ 1 _ 0 1 1.\n",
            "p1: b3+b5+b7 = 1+0+1 = 0.\n",
            "p2: b3+b6+b7 = 1+1+1 = 1.\n",
            "p3: b5+b6+b7 = 0+1+1 = 0.\n",
            "p0: b1+b2+b3+b4+b5+b6+b7 = 0+1+1+0+0+1+1 = 0.\n",
            "Encoded bitstring: 00110011\n",
            "----------\n",
            "1011:\n",
            "Expand the block to 8 bits: _ _ _ 1 _ 0 1 1.\n",
            "p1: b3+b5+b7 = 1+0+1 = 0.\n",
            "p2: b3+b6+b7 = 1+1+1 = 1.\n",
            "p3: b5+b6+b7 = 0+1+1 = 0.\n",
            "p0: b1+b2+b3+b4+b5+b6+b7 = 0+1+1+0+0+1+1 = 0.\n",
            "Encoded bitstring: 00110011\n",
            "----------\n",
            "0010:\n",
            "Expand the block to 8 bits: _ _ _ 0 _ 0 1 0.\n",
            "p1: b3+b5+b7 = 0+0+0 = 0.\n",
            "p2: b3+b6+b7 = 0+1+0 = 1.\n",
            "p3: b5+b6+b7 = 0+1+0 = 1.\n",
            "p0: b1+b2+b3+b4+b5+b6+b7 = 0+1+0+1+0+1+0 = 1.\n",
            "Encoded bitstring: 10101010\n",
            "----------\n",
            "1110:\n",
            "Expand the block to 8 bits: _ _ _ 1 _ 1 1 0.\n",
            "p1: b3+b5+b7 = 1+1+0 = 0.\n",
            "p2: b3+b6+b7 = 1+1+0 = 0.\n",
            "p3: b5+b6+b7 = 1+1+0 = 0.\n",
            "p0: b1+b2+b3+b4+b5+b6+b7 = 0+0+1+0+1+1+0 = 1.\n",
            "Encoded bitstring: 10010110\n",
            "----------\n",
            "1000:\n",
            "Expand the block to 8 bits: _ _ _ 1 _ 0 0 0.\n",
            "p1: b3+b5+b7 = 1+0+0 = 1.\n",
            "p2: b3+b6+b7 = 1+0+0 = 1.\n",
            "p3: b5+b6+b7 = 0+0+0 = 0.\n",
            "p0: b1+b2+b3+b4+b5+b6+b7 = 1+1+1+0+0+0+0 = 1.\n",
            "Encoded bitstring: 11110000\n",
            "----------\n",
            "0010:\n",
            "Expand the block to 8 bits: _ _ _ 0 _ 0 1 0.\n",
            "p1: b3+b5+b7 = 0+0+0 = 0.\n",
            "p2: b3+b6+b7 = 0+1+0 = 1.\n",
            "p3: b5+b6+b7 = 0+1+0 = 1.\n",
            "p0: b1+b2+b3+b4+b5+b6+b7 = 0+1+0+1+0+1+0 = 1.\n",
            "Encoded bitstring: 10101010\n",
            "----------\n",
            "1110:\n",
            "Expand the block to 8 bits: _ _ _ 1 _ 1 1 0.\n",
            "p1: b3+b5+b7 = 1+1+0 = 0.\n",
            "p2: b3+b6+b7 = 1+1+0 = 0.\n",
            "p3: b5+b6+b7 = 1+1+0 = 0.\n",
            "p0: b1+b2+b3+b4+b5+b6+b7 = 0+0+1+0+1+1+0 = 1.\n",
            "Encoded bitstring: 10010110\n",
            "----------\n",
            "1011:\n",
            "Expand the block to 8 bits: _ _ _ 1 _ 0 1 1.\n",
            "p1: b3+b5+b7 = 1+0+1 = 0.\n",
            "p2: b3+b6+b7 = 1+1+1 = 1.\n",
            "p3: b5+b6+b7 = 0+1+1 = 0.\n",
            "p0: b1+b2+b3+b4+b5+b6+b7 = 0+1+1+0+0+1+1 = 0.\n",
            "Encoded bitstring: 00110011\n",
            "----------\n",
            "0001:\n",
            "Expand the block to 8 bits: _ _ _ 0 _ 0 0 1.\n",
            "p1: b3+b5+b7 = 0+0+1 = 1.\n",
            "p2: b3+b6+b7 = 0+0+1 = 1.\n",
            "p3: b5+b6+b7 = 0+0+1 = 1.\n",
            "p0: b1+b2+b3+b4+b5+b6+b7 = 1+1+0+1+0+0+1 = 0.\n",
            "Encoded bitstring: 01101001\n",
            "----------\n",
            "1101:\n",
            "Expand the block to 8 bits: _ _ _ 1 _ 1 0 1.\n",
            "p1: b3+b5+b7 = 1+1+1 = 1.\n",
            "p2: b3+b6+b7 = 1+0+1 = 0.\n",
            "p3: b5+b6+b7 = 1+0+1 = 0.\n",
            "p0: b1+b2+b3+b4+b5+b6+b7 = 1+0+1+0+1+0+1 = 0.\n",
            "Encoded bitstring: 01010101\n",
            "----------\n"
          ],
          "name": "stdout"
        }
      ]
    },
    {
      "cell_type": "code",
      "metadata": {
        "colab": {
          "base_uri": "https://localhost:8080/"
        },
        "id": "RgPmi4VM0v3M",
        "outputId": "041ed2b7-730a-44c0-a886-7a7a9b419664"
      },
      "source": [
        "# Step 5\n",
        "print('Encoded sequence:')\n",
        "print(encoded_sequence)\n",
        "# creating new txt file to write decompressed text \n",
        "k = open(\"encoded_sequence.txt\",\"w+\")\n"
      ],
      "execution_count": 68,
      "outputs": [
        {
          "output_type": "stream",
          "text": [
            "Encoded sequence:\n",
            "110000110011001100110011001100111010101010010110111100001010101010010110001100110110100101010101\n"
          ],
          "name": "stdout"
        }
      ]
    },
    {
      "cell_type": "code",
      "metadata": {
        "id": "ZinxRX6A9t2p"
      },
      "source": [
        "for i in encoded_sequence:\n",
        "  k.write(i)"
      ],
      "execution_count": 70,
      "outputs": []
    },
    {
      "cell_type": "markdown",
      "metadata": {
        "id": "CT2VQsWWn1yt"
      },
      "source": [
        "### (15,11) Extended Hamming code"
      ]
    },
    {
      "cell_type": "code",
      "metadata": {
        "colab": {
          "base_uri": "https://localhost:8080/"
        },
        "id": "_2RC4AJrsqM9",
        "outputId": "0c6d2ca8-f5b8-4f93-c832-f5d6b67e97c0"
      },
      "source": [
        "# Step 2\n",
        "# dividing into data blocks 4 bits each\n",
        "n = 11\n",
        "blocks = [compr[i:i+n] for i in range(0, len(compr), n)]\n",
        "# output each data block \n",
        "print('Data blocks:' )\n",
        "i=1\n",
        "for data in blocks:\n",
        "  print(f'b{i}: {data}')\n",
        "  i+=1"
      ],
      "execution_count": 14,
      "outputs": [
        {
          "output_type": "stream",
          "text": [
            "Data blocks:\n",
            "b1: 00111011101\n",
            "b2: 11011001011\n",
            "b3: 10100000101\n",
            "b4: 11010110001\n",
            "b5: 1101\n"
          ],
          "name": "stdout"
        }
      ]
    },
    {
      "cell_type": "code",
      "metadata": {
        "id": "9RYs__9rsHgn"
      },
      "source": [
        "# Step 3\n",
        "def HammingEncode(bitstring):\n"
      ],
      "execution_count": null,
      "outputs": []
    },
    {
      "cell_type": "code",
      "metadata": {
        "id": "kvA2M_NE95Dy"
      },
      "source": [
        ""
      ],
      "execution_count": null,
      "outputs": []
    }
  ]
}