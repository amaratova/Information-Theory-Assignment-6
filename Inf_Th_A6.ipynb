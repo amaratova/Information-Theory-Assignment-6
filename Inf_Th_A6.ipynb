{
  "nbformat": 4,
  "nbformat_minor": 0,
  "metadata": {
    "colab": {
      "name": "Inf Th A6.ipynb",
      "provenance": [],
      "collapsed_sections": []
    },
    "kernelspec": {
      "name": "python3",
      "display_name": "Python 3"
    },
    "language_info": {
      "name": "python"
    }
  },
  "cells": [
    {
      "cell_type": "markdown",
      "metadata": {
        "id": "fbocqcv1feil"
      },
      "source": [
        "## Assignment 6: Hamming Code\n",
        "### Members: Akbota Yelemessova & Akniyet Maratova \n",
        "### Group: BDA-1904"
      ]
    },
    {
      "cell_type": "code",
      "metadata": {
        "colab": {
          "base_uri": "https://localhost:8080/"
        },
        "id": "mH9S3yg1fsiG",
        "outputId": "96237957-f8a3-4b5f-ac9d-b88a4806a38b"
      },
      "source": [
        "# Step 1\n",
        "# open and read txt file\n",
        "with open('compressed.txt', encoding=\"utf8\") as file:\n",
        "    compr = file.read()\n",
        "print(compr)"
      ],
      "execution_count": 49,
      "outputs": [
        {
          "output_type": "stream",
          "text": [
            "00111011101110110010111010000010111010110001\n"
          ],
          "name": "stdout"
        }
      ]
    },
    {
      "cell_type": "markdown",
      "metadata": {
        "id": "_KlLJdY6qmmL"
      },
      "source": [
        "### (7,4) Extended Hamming code"
      ]
    },
    {
      "cell_type": "code",
      "metadata": {
        "colab": {
          "base_uri": "https://localhost:8080/"
        },
        "id": "MCOqmJABqsy_",
        "outputId": "54cb8dfc-8987-4d1a-e1d1-563c73278e82"
      },
      "source": [
        "#Step 2\n",
        "# dividing into data blocks 4 bits each\n",
        "n = 4\n",
        "blocks = [compr[i:i+n] for i in range(0, len(compr), n)]\n",
        "# output each data block \n",
        "print('Data blocks:' )\n",
        "i=1\n",
        "for data in blocks:\n",
        "  print(f'b{i}: {data}')\n",
        "  i+=1"
      ],
      "execution_count": 50,
      "outputs": [
        {
          "output_type": "stream",
          "text": [
            "Data blocks:\n",
            "b1: 0011\n",
            "b2: 1011\n",
            "b3: 1011\n",
            "b4: 1011\n",
            "b5: 0010\n",
            "b6: 1110\n",
            "b7: 1000\n",
            "b8: 0010\n",
            "b9: 1110\n",
            "b10: 1011\n",
            "b11: 0001\n"
          ],
          "name": "stdout"
        }
      ]
    },
    {
      "cell_type": "code",
      "metadata": {
        "id": "R12D8-pY1Dt8"
      },
      "source": [
        "# Step 3\n",
        "# (7,4) Hamming approach 1\n",
        "def HammingEncode2(bitstring):\n",
        "   # Get data bits\n",
        "    n = 1\n",
        "    bits = [bitstring[i:i+n] for i in range(0, len(bitstring), n)]\n",
        "    # Converting bits to integer\n",
        "    for i in range(0, len(bits)):\n",
        "      bits[i] = int(bits[i])\n",
        "    #output\n",
        "    print(f'{bitstring}:')\n",
        "    print(f'Expand the block to 8 bits: _ _ _ {bits[0]} _ {bits[1]} {bits[2]} {bits[3]}.')\n",
        "    p1 = bits[0]^bits[1]^bits[3]\n",
        "    print(f'p1: b3+b5+b7 = {bits[0]}+{bits[1]}+{bits[3]} = {p1}.')\n",
        "    p2 = bits[0]^bits[2]^bits[3]\n",
        "    print(f'p2: b3+b6+b7 = {bits[0]}+{bits[2]}+{bits[3]} = {p2}.')\n",
        "    p3 = bits[1]^bits[2]^bits[3]\n",
        "    print(f'p3: b5+b6+b7 = {bits[1]}+{bits[2]}+{bits[3]} = {p3}.')\n",
        "    p0 = p1^p2^bits[0]^p3^bits[1]^bits[2]^bits[3]\n",
        "    print(f'p0: b1+b2+b3+b4+b5+b6+b7 = {p1}+{p2}+{bits[0]}+{p3}+{bits[1]}+{bits[2]}+{bits[3]} = {p0}.')\n",
        "\n",
        "    # joinig all integers as string\n",
        "    eb = \"%d%d%d%d%d%d%d%d\" % (p0,p1,p2,bits[0],p3,bits[1],bits[2],bits[3])\n",
        "    print(f'Encoded bitstring: {eb}')\n",
        "    return eb"
      ],
      "execution_count": 51,
      "outputs": []
    },
    {
      "cell_type": "code",
      "metadata": {
        "colab": {
          "base_uri": "https://localhost:8080/"
        },
        "id": "lUnUmI6pxz4v",
        "outputId": "5102c13f-45aa-452a-f9f0-e5413a789122"
      },
      "source": [
        "# Step 4\n",
        "encoded_sequence = ''\n",
        "for i in range(0, len(blocks)):\n",
        "  enc = HammingEncode2(blocks[i])\n",
        "  encoded_sequence = encoded_sequence + enc\n",
        "  print('----------')\n"
      ],
      "execution_count": 52,
      "outputs": [
        {
          "output_type": "stream",
          "text": [
            "0011:\n",
            "Expand the block to 8 bits: _ _ _ 0 _ 0 1 1.\n",
            "p1: b3+b5+b7 = 0+0+1 = 1.\n",
            "p2: b3+b6+b7 = 0+1+1 = 0.\n",
            "p3: b5+b6+b7 = 0+1+1 = 0.\n",
            "p0: b1+b2+b3+b4+b5+b6+b7 = 1+0+0+0+0+1+1 = 1.\n",
            "Encoded bitstring: 11000011\n",
            "----------\n",
            "1011:\n",
            "Expand the block to 8 bits: _ _ _ 1 _ 0 1 1.\n",
            "p1: b3+b5+b7 = 1+0+1 = 0.\n",
            "p2: b3+b6+b7 = 1+1+1 = 1.\n",
            "p3: b5+b6+b7 = 0+1+1 = 0.\n",
            "p0: b1+b2+b3+b4+b5+b6+b7 = 0+1+1+0+0+1+1 = 0.\n",
            "Encoded bitstring: 00110011\n",
            "----------\n",
            "1011:\n",
            "Expand the block to 8 bits: _ _ _ 1 _ 0 1 1.\n",
            "p1: b3+b5+b7 = 1+0+1 = 0.\n",
            "p2: b3+b6+b7 = 1+1+1 = 1.\n",
            "p3: b5+b6+b7 = 0+1+1 = 0.\n",
            "p0: b1+b2+b3+b4+b5+b6+b7 = 0+1+1+0+0+1+1 = 0.\n",
            "Encoded bitstring: 00110011\n",
            "----------\n",
            "1011:\n",
            "Expand the block to 8 bits: _ _ _ 1 _ 0 1 1.\n",
            "p1: b3+b5+b7 = 1+0+1 = 0.\n",
            "p2: b3+b6+b7 = 1+1+1 = 1.\n",
            "p3: b5+b6+b7 = 0+1+1 = 0.\n",
            "p0: b1+b2+b3+b4+b5+b6+b7 = 0+1+1+0+0+1+1 = 0.\n",
            "Encoded bitstring: 00110011\n",
            "----------\n",
            "0010:\n",
            "Expand the block to 8 bits: _ _ _ 0 _ 0 1 0.\n",
            "p1: b3+b5+b7 = 0+0+0 = 0.\n",
            "p2: b3+b6+b7 = 0+1+0 = 1.\n",
            "p3: b5+b6+b7 = 0+1+0 = 1.\n",
            "p0: b1+b2+b3+b4+b5+b6+b7 = 0+1+0+1+0+1+0 = 1.\n",
            "Encoded bitstring: 10101010\n",
            "----------\n",
            "1110:\n",
            "Expand the block to 8 bits: _ _ _ 1 _ 1 1 0.\n",
            "p1: b3+b5+b7 = 1+1+0 = 0.\n",
            "p2: b3+b6+b7 = 1+1+0 = 0.\n",
            "p3: b5+b6+b7 = 1+1+0 = 0.\n",
            "p0: b1+b2+b3+b4+b5+b6+b7 = 0+0+1+0+1+1+0 = 1.\n",
            "Encoded bitstring: 10010110\n",
            "----------\n",
            "1000:\n",
            "Expand the block to 8 bits: _ _ _ 1 _ 0 0 0.\n",
            "p1: b3+b5+b7 = 1+0+0 = 1.\n",
            "p2: b3+b6+b7 = 1+0+0 = 1.\n",
            "p3: b5+b6+b7 = 0+0+0 = 0.\n",
            "p0: b1+b2+b3+b4+b5+b6+b7 = 1+1+1+0+0+0+0 = 1.\n",
            "Encoded bitstring: 11110000\n",
            "----------\n",
            "0010:\n",
            "Expand the block to 8 bits: _ _ _ 0 _ 0 1 0.\n",
            "p1: b3+b5+b7 = 0+0+0 = 0.\n",
            "p2: b3+b6+b7 = 0+1+0 = 1.\n",
            "p3: b5+b6+b7 = 0+1+0 = 1.\n",
            "p0: b1+b2+b3+b4+b5+b6+b7 = 0+1+0+1+0+1+0 = 1.\n",
            "Encoded bitstring: 10101010\n",
            "----------\n",
            "1110:\n",
            "Expand the block to 8 bits: _ _ _ 1 _ 1 1 0.\n",
            "p1: b3+b5+b7 = 1+1+0 = 0.\n",
            "p2: b3+b6+b7 = 1+1+0 = 0.\n",
            "p3: b5+b6+b7 = 1+1+0 = 0.\n",
            "p0: b1+b2+b3+b4+b5+b6+b7 = 0+0+1+0+1+1+0 = 1.\n",
            "Encoded bitstring: 10010110\n",
            "----------\n",
            "1011:\n",
            "Expand the block to 8 bits: _ _ _ 1 _ 0 1 1.\n",
            "p1: b3+b5+b7 = 1+0+1 = 0.\n",
            "p2: b3+b6+b7 = 1+1+1 = 1.\n",
            "p3: b5+b6+b7 = 0+1+1 = 0.\n",
            "p0: b1+b2+b3+b4+b5+b6+b7 = 0+1+1+0+0+1+1 = 0.\n",
            "Encoded bitstring: 00110011\n",
            "----------\n",
            "0001:\n",
            "Expand the block to 8 bits: _ _ _ 0 _ 0 0 1.\n",
            "p1: b3+b5+b7 = 0+0+1 = 1.\n",
            "p2: b3+b6+b7 = 0+0+1 = 1.\n",
            "p3: b5+b6+b7 = 0+0+1 = 1.\n",
            "p0: b1+b2+b3+b4+b5+b6+b7 = 1+1+0+1+0+0+1 = 0.\n",
            "Encoded bitstring: 01101001\n",
            "----------\n"
          ],
          "name": "stdout"
        }
      ]
    },
    {
      "cell_type": "code",
      "metadata": {
        "colab": {
          "base_uri": "https://localhost:8080/"
        },
        "id": "RgPmi4VM0v3M",
        "outputId": "884e099c-d13b-4c8a-cdad-7ac9c7e7874f"
      },
      "source": [
        "# Step 5\n",
        "print('Encoded sequence:')\n",
        "print(encoded_sequence)\n",
        "# creating new txt file to write decompressed text \n",
        "k = open(\"encoded_sequence_74.txt\",\"w+\")\n"
      ],
      "execution_count": 53,
      "outputs": [
        {
          "output_type": "stream",
          "text": [
            "Encoded sequence:\n",
            "1100001100110011001100110011001110101010100101101111000010101010100101100011001101101001\n"
          ],
          "name": "stdout"
        }
      ]
    },
    {
      "cell_type": "code",
      "metadata": {
        "id": "ZinxRX6A9t2p"
      },
      "source": [
        "for i in encoded_sequence:\n",
        "  k.write(i)"
      ],
      "execution_count": 54,
      "outputs": []
    },
    {
      "cell_type": "markdown",
      "metadata": {
        "id": "CT2VQsWWn1yt"
      },
      "source": [
        "### (15,11) Extended Hamming code"
      ]
    },
    {
      "cell_type": "code",
      "metadata": {
        "colab": {
          "base_uri": "https://localhost:8080/"
        },
        "id": "az5a1CxABf-B",
        "outputId": "71223257-8a5c-46a5-c022-ae60227c606a"
      },
      "source": [
        "# Step 2\n",
        "# dividing into data blocks 11 bits each\n",
        "n = 11\n",
        "block11 = [compr[i:i+n] for i in range(0, len(compr), n)]\n",
        "# output each data block \n",
        "print('Data blocks:' )\n",
        "i=1\n",
        "for data in blocks:\n",
        "  print(f'b{i}: {data}')\n",
        "  i+=1"
      ],
      "execution_count": 55,
      "outputs": [
        {
          "output_type": "stream",
          "text": [
            "Data blocks:\n",
            "b1: 0011\n",
            "b2: 1011\n",
            "b3: 1011\n",
            "b4: 1011\n",
            "b5: 0010\n",
            "b6: 1110\n",
            "b7: 1000\n",
            "b8: 0010\n",
            "b9: 1110\n",
            "b10: 1011\n",
            "b11: 0001\n"
          ],
          "name": "stdout"
        }
      ]
    },
    {
      "cell_type": "code",
      "metadata": {
        "id": "_2RC4AJrsqM9"
      },
      "source": [
        "# Step 3\n",
        "# (15,11) Hamming approach 1\n",
        "def HammingEncodee(bitstring):\n",
        "   # Get data bits\n",
        "    n = 1\n",
        "    bits = [bitstring[i:i+n] for i in range(0, len(bitstring), n)]\n",
        "    # Converting bits to integer\n",
        "    for i in range(0, len(bits)):\n",
        "      bits[i] = int(bits[i])\n",
        "    #output\n",
        "    if len(bitstring)<11:\n",
        "      b = len(bitstring)\n",
        "    print(f'{bitstring}:')\n",
        "    print(f'Expand the block to 15 bits: _ _ {bits[0]} _ {bits[1]} {bits[2]} {bits[3]} _ {bits[4]} {bits[5]} {bits[6]} {bits[7]} {bits[8]} {bits[9]} {bits[10]}.')\n",
        "    p1 = bits[0]^bits[1]^bits[3]^bits[4]^bits[6]^bits[8]^bits[10]\n",
        "    print(f'p1: b3+b5+b7+b9+b11+b13+b15 = {bits[0]}+{bits[1]}+{bits[3]}+{bits[4]}+{bits[6]}+{bits[8]}+{bits[10]} = {p1}.')\n",
        "    p2 = bits[0]^bits[2]^bits[3]^bits[5]^bits[6]^bits[9]^bits[10]\n",
        "    print(f'p2: b3+b6+b7+b10+b11+b14+b15 = {bits[0]}+{bits[2]}+{bits[3]}+{bits[5]}+{bits[6]}+{bits[9]}+{bits[10]} = {p2}.')\n",
        "    p4 = bits[1]^bits[2]^bits[3]^bits[7]^bits[8]^bits[9]^bits[10]\n",
        "    print(f'p4: b5+b6+b7+b12+b13+b14+b15 = {bits[1]}+{bits[2]}+{bits[3]}+{bits[7]}+{bits[8]}+{bits[9]}+{bits[10]} = {p4}.')\n",
        "    p8 = bits[4]^bits[5]^bits[6]^bits[7]^bits[8]^bits[9]^bits[10]\n",
        "    print(f'p8: b9+b10+b11+b12+b13+b14+b15 = {bits[4]}+{bits[5]}+{bits[6]}+{bits[7]}+{bits[8]}+{bits[9]}+{bits[10]} = {p8}.')\n",
        "    p0 = p1^p2^bits[0]^p4^bits[1]^bits[2]^bits[3]^p8^bits[4]^bits[5]^bits[6]^bits[7]^bits[8]^bits[9]^bits[10]\n",
        "    print(f'p0: b1+b2+b3+b4+b5+b6+b7+b8+b9+b10+b11+b12+b13+b14+b15 = {p1}+{p2}+{bits[0]}+{p4}+{bits[1]}+{bits[2]}+{bits[3]}+{p8}+{bits[4]}+{bits[5]}+{bits[6]}+{bits[7]}+{bits[8]}+{bits[9]}+{bits[10]} = {p0}.')\n",
        "\n",
        "    # joinig all integers as string\n",
        "    kk = \"%d%d%d%d%d%d%d%d%d%d%d%d%d%d%d%d\" % (p0,p1,p2,bits[0],p4,bits[1],bits[2],bits[3],p8,bits[4],bits[5],bits[6],bits[7],bits[8],bits[9],bits[10])\n",
        "    print(f'Encoded bitstring: {kk}')\n",
        "    return kk"
      ],
      "execution_count": 56,
      "outputs": []
    },
    {
      "cell_type": "code",
      "metadata": {
        "id": "kvA2M_NE95Dy",
        "colab": {
          "base_uri": "https://localhost:8080/"
        },
        "outputId": "b7e9c70b-2609-4774-a260-c0147069aef1"
      },
      "source": [
        "# Step 4\n",
        "enc_sequence = ''\n",
        "for i in range(0, len(block11)):\n",
        "  res = HammingEncodee(block11[i])\n",
        "  enc_sequence = enc_sequence + res\n",
        "  print('----------')"
      ],
      "execution_count": 57,
      "outputs": [
        {
          "output_type": "stream",
          "text": [
            "00111011101:\n",
            "Expand the block to 8 bits: _ _ 0 _ 0 1 1 _ 1 0 1 1 1 0 1.\n",
            "p1: b3+b5+b7+b9+b11+b13+b15 = 0+0+1+1+1+1+1 = 1.\n",
            "p2: b3+b6+b7+b10+b11+b14+b15 = 0+1+1+0+1+0+1 = 0.\n",
            "p4: b5+b6+b7+b12+b13+b14+b15 = 0+1+1+1+1+0+1 = 1.\n",
            "p8: b9+b10+b11+b12+b13+b14+b15 = 1+0+1+1+1+0+1 = 1.\n",
            "p0: b1+b2+b3+b4+b5+b6+b7+b8+b9+b10+b11+b12+b13+b14+b15 = 1+0+0+1+0+1+1+1+1+0+1+1+1+0+1 = 0.\n",
            "Encoded bitstring: 0100101111011101\n",
            "----------\n",
            "11011001011:\n",
            "Expand the block to 8 bits: _ _ 1 _ 1 0 1 _ 1 0 0 1 0 1 1.\n",
            "p1: b3+b5+b7+b9+b11+b13+b15 = 1+1+1+1+0+0+1 = 1.\n",
            "p2: b3+b6+b7+b10+b11+b14+b15 = 1+0+1+0+0+1+1 = 0.\n",
            "p4: b5+b6+b7+b12+b13+b14+b15 = 1+0+1+1+0+1+1 = 1.\n",
            "p8: b9+b10+b11+b12+b13+b14+b15 = 1+0+0+1+0+1+1 = 0.\n",
            "p0: b1+b2+b3+b4+b5+b6+b7+b8+b9+b10+b11+b12+b13+b14+b15 = 1+0+1+1+1+0+1+0+1+0+0+1+0+1+1 = 1.\n",
            "Encoded bitstring: 1101110101001011\n",
            "----------\n",
            "10100000101:\n",
            "Expand the block to 8 bits: _ _ 1 _ 0 1 0 _ 0 0 0 0 1 0 1.\n",
            "p1: b3+b5+b7+b9+b11+b13+b15 = 1+0+0+0+0+1+1 = 1.\n",
            "p2: b3+b6+b7+b10+b11+b14+b15 = 1+1+0+0+0+0+1 = 1.\n",
            "p4: b5+b6+b7+b12+b13+b14+b15 = 0+1+0+0+1+0+1 = 1.\n",
            "p8: b9+b10+b11+b12+b13+b14+b15 = 0+0+0+0+1+0+1 = 0.\n",
            "p0: b1+b2+b3+b4+b5+b6+b7+b8+b9+b10+b11+b12+b13+b14+b15 = 1+1+1+1+0+1+0+0+0+0+0+0+1+0+1 = 1.\n",
            "Encoded bitstring: 1111101000000101\n",
            "----------\n",
            "11010110001:\n",
            "Expand the block to 8 bits: _ _ 1 _ 1 0 1 _ 0 1 1 0 0 0 1.\n",
            "p1: b3+b5+b7+b9+b11+b13+b15 = 1+1+1+0+1+0+1 = 1.\n",
            "p2: b3+b6+b7+b10+b11+b14+b15 = 1+0+1+1+1+0+1 = 1.\n",
            "p4: b5+b6+b7+b12+b13+b14+b15 = 1+0+1+0+0+0+1 = 1.\n",
            "p8: b9+b10+b11+b12+b13+b14+b15 = 0+1+1+0+0+0+1 = 1.\n",
            "p0: b1+b2+b3+b4+b5+b6+b7+b8+b9+b10+b11+b12+b13+b14+b15 = 1+1+1+1+1+0+1+1+0+1+1+0+0+0+1 = 0.\n",
            "Encoded bitstring: 0111110110110001\n",
            "----------\n"
          ],
          "name": "stdout"
        }
      ]
    },
    {
      "cell_type": "code",
      "metadata": {
        "id": "D7sS2pWkBqd-",
        "colab": {
          "base_uri": "https://localhost:8080/"
        },
        "outputId": "70853abc-b8cb-451c-bf76-3c4e8aa3dac0"
      },
      "source": [
        "# Step 5\n",
        "print('Encoded sequence:')\n",
        "print(enc_sequence)\n",
        "# creating new txt file to write decompressed text \n",
        "k2 = open(\"encoded_sequence_1511.txt\",\"w+\")"
      ],
      "execution_count": 58,
      "outputs": [
        {
          "output_type": "stream",
          "text": [
            "Encoded sequence:\n",
            "0100101111011101110111010100101111111010000001010111110110110001\n"
          ],
          "name": "stdout"
        }
      ]
    },
    {
      "cell_type": "code",
      "metadata": {
        "id": "uJp3-roVBzBT"
      },
      "source": [
        "for i in enc_sequence:\n",
        "  k2.write(i)"
      ],
      "execution_count": 59,
      "outputs": []
    },
    {
      "cell_type": "code",
      "metadata": {
        "id": "8ojDt6Z7Nisx"
      },
      "source": [
        ""
      ],
      "execution_count": null,
      "outputs": []
    }
  ]
}